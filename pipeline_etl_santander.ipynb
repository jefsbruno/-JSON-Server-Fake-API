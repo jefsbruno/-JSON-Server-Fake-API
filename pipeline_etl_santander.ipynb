{
  "nbformat": 4,
  "nbformat_minor": 0,
  "metadata": {
    "colab": {
      "provenance": [],
      "authorship_tag": "ABX9TyMKlF2oLLX6TGQJbdjIh6le",
      "include_colab_link": true
    },
    "kernelspec": {
      "name": "python3",
      "display_name": "Python 3"
    },
    "language_info": {
      "name": "python"
    }
  },
  "cells": [
    {
      "cell_type": "markdown",
      "metadata": {
        "id": "view-in-github",
        "colab_type": "text"
      },
      "source": [
        "<a href=\"https://colab.research.google.com/github/jefsbruno/-JSON-Server-Fake-API/blob/master/pipeline_etl_santander.ipynb\" target=\"_parent\"><img src=\"https://colab.research.google.com/assets/colab-badge.svg\" alt=\"Open In Colab\"/></a>"
      ]
    },
    {
      "cell_type": "code",
      "execution_count": null,
      "metadata": {
        "id": "0YZ5muVivlm5"
      },
      "outputs": [],
      "source": [
        "sdw2023_api_url = 'https://sdw-2023-prd.up.railway.app'"
      ]
    },
    {
      "cell_type": "markdown",
      "source": [
        "# ***E***xtract\n",
        "\n",
        "Extrai a lista de IDS de usuário a partir do arquivo CSV. Para cada Id, faça uma requisição GET para obter os dados do usuario correspondente."
      ],
      "metadata": {
        "id": "uGewpD-fxfNX"
      }
    },
    {
      "cell_type": "code",
      "source": [
        "import pandas as pd\n",
        "\n",
        "df = pd.read_csv('santandio.csv')\n",
        "\n",
        "user_ids = df['']"
      ],
      "metadata": {
        "id": "I0URfRh2x20c"
      },
      "execution_count": null,
      "outputs": []
    },
    {
      "cell_type": "markdown",
      "source": [
        "# **T**ransform\n",
        "\n",
        "Utilize a API do OpenAi GPT-4 para gerar uma mensagem de marketing personalizada para cada usuário."
      ],
      "metadata": {
        "id": "mJ0cF5WXx4Ll"
      }
    },
    {
      "cell_type": "code",
      "source": [],
      "metadata": {
        "id": "Q1Ad0aQdx4ps"
      },
      "execution_count": null,
      "outputs": []
    },
    {
      "cell_type": "markdown",
      "source": [
        "# ***L***oad\n",
        "\n",
        "Atualize a lista de \"news\" de cada usuario na APi com a nova mensagem gerada"
      ],
      "metadata": {
        "id": "16wpn3IOx46E"
      }
    },
    {
      "cell_type": "code",
      "source": [],
      "metadata": {
        "id": "9BhTNq5ix5Lc"
      },
      "execution_count": null,
      "outputs": []
    }
  ]
}